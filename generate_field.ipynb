{
 "cells": [
  {
   "cell_type": "markdown",
   "source": [
    "In this notebook, we simulate the field created by the TRIF electromagnet and save it as a data set. This data set is going to be used to test our calibration approach.\n",
    "\n",
    "We model the electromagnet as three magnetic dipoles oriented in the same direction. The dipoles are located in the same plain at the same distance from the axis of symmetry, and their position vectors are at $120^0$ with respect to each other. We also assume that there can be a uniform external magnetic field.\n",
    "\n",
    "***"
   ],
   "metadata": {
    "collapsed": false
   }
  },
  {
   "cell_type": "markdown",
   "source": [
    "## Setup"
   ],
   "metadata": {
    "collapsed": false
   }
  },
  {
   "cell_type": "code",
   "execution_count": 4,
   "id": "f8078939",
   "metadata": {},
   "outputs": [],
   "source": [
    "import numpy as np\n",
    "import pandas as pd\n",
    "import matplotlib.pyplot as plt"
   ]
  },
  {
   "cell_type": "code",
   "execution_count": 15,
   "id": "fee8fb9c",
   "metadata": {},
   "outputs": [],
   "source": [
    "# Functions for the field calculations\n",
    "\n",
    "def mag(x):\n",
    "    \"\"\"Calculates magnitude of vector x\"\"\"\n",
    "    return np.sqrt(np.dot(x,x))\n",
    "\n",
    "def dipole_field(r, r0, m, a):\n",
    "    \"\"\"\n",
    "    Calculates magnetic field of a single dipole\n",
    "    r - location of the field\n",
    "    r0 - position of the dipole\n",
    "    m - magnitude of the dipole. Negative values correspond to the opposite orientation of  the dipole axis\n",
    "    a - dipole axis\"\"\"\n",
    "    M = m*a   # Magnetic moment vector\n",
    "    R = r-r0\n",
    "    if np.dot(R,R) == 0: #This one is to avoid singularities\n",
    "        return np.array([0, 0, 0])\n",
    "    return mu0*(3*R*(np.dot(M,R))/(mag(R)**5) - M/(mag(R)**3))\n",
    "\n",
    "def total_field(r, m_array: np.array, B0: np.array, dipole_axis: np.array) -> np.array:\n",
    "    \"\"\"Calculates the total field at point r\n",
    "    To simplify the data set generation later, the magnitudes of the three dipoles are placed in array m.\n",
    "    B0 is the external field.\n",
    "    dipole_axis is the dipole orientation (same for all three)\"\"\"\n",
    "    B1 = dipole_field(r, R1, m_array[0], dipole_axis)\n",
    "    B2 = dipole_field(r, R2, m_array[1], dipole_axis)\n",
    "    B3 = dipole_field(r, R3, m_array[2], dipole_axis)\n",
    "    return B1+B2+B3+B0"
   ]
  },
  {
   "cell_type": "code",
   "execution_count": 5,
   "id": "854a922a",
   "metadata": {},
   "outputs": [],
   "source": [
    "# Constants and the setup parameters\n",
    "\n",
    "mu0 = 10**-7# magnetic constant\n",
    "m = 1e8 # Scaling factor magnetic dipole magnitude\n",
    "\n",
    "# Magnetic dipole position vectors\n",
    "R1 = np.array([1, 0, 1])\n",
    "R2 = np.array([-np.cos(np.pi/3), np.sin(np.pi/3), 1])\n",
    "R3 = np.array([-np.cos(np.pi/3), -np.sin(np.pi/3), 1])\n",
    "\n",
    "# Magnetic dipole orientation (same for all three)\n",
    "A = np.array([0, 0, 1]) # It is a global variable\n",
    "\n",
    "# External magnetic field\n",
    "B_uniform = np.array([0.,0.,0.])\n",
    "\n",
    "# The magnetometer location. Magnetic field is calculated here\n",
    "r0 = np.array([0., 0., 0.])"
   ]
  },
  {
   "cell_type": "markdown",
   "source": [
    "## Generate data set of magnetic dipole magnitudes.\n",
    " In the experiment each dipole magnitude corresponds to a voltage applied to the corresponding coil inside the magnet."
   ],
   "metadata": {
    "collapsed": false
   }
  },
  {
   "cell_type": "code",
   "execution_count": 7,
   "id": "fcf460ae",
   "metadata": {
    "pycharm": {
     "name": "#%% training sets for individual dipoles\n"
    }
   },
   "outputs": [],
   "source": [
    "# Apply voltage to a single coil in a linear fashion\n",
    "\n",
    "N1 = 501 # number of training samples for each dipole\n",
    "M1 = np.concatenate((np.linspace(-10, 10, N1), np.zeros((N1)), np.zeros(N1)))\n",
    "M2 = np.concatenate((np.zeros((N1)), np.linspace(-10, 10, N1),  np.zeros(N1)))\n",
    "M3 = np.concatenate((np.zeros((N1)), np.zeros(N1), np.linspace(-10, 10, N1)))\n",
    "\n",
    "targets=np.stack((M1, M2, M3), axis=1)"
   ]
  },
  {
   "cell_type": "code",
   "execution_count": 16,
   "id": "44182957",
   "metadata": {
    "pycharm": {
     "name": "#%% training sets for random dipoles\n"
    }
   },
   "outputs": [],
   "source": [
    "# Apply random voltages to all three coils\n",
    "N2 = 1000 #\n",
    "M = np.random.uniform(-10, 10, (N2, 3))\n",
    "targets_train = np.concatenate((targets, M))"
   ]
  },
  {
   "cell_type": "code",
   "execution_count": null,
   "id": "c42ba86c",
   "metadata": {
    "pycharm": {
     "name": "#%% calculate B field\n"
    }
   },
   "outputs": [],
   "source": [
    "B = []\n",
    "\n",
    "for M in targets_train:\n",
    "    B.append(total_field(r0, M*m, B_uniform, A))\n",
    "    \n",
    "B_train = np.array(B)\n",
    "\n",
    "Training_set = pd.DataFrame(np.concatenate((B_train, targets_train), axis = 1), columns = [\"B_x\", \"B_y\", \"B_z\", \"M_1\", \"M_2\", \"M_3\"])\n",
    "\n",
    "# np.save(\"data\\B_train.npy\", B_train)\n",
    "# np.save(\"data\\M_train.npy\", targets_train)"
   ]
  },
  {
   "cell_type": "code",
   "execution_count": null,
   "outputs": [],
   "source": [],
   "metadata": {
    "collapsed": false
   }
  },
  {
   "cell_type": "code",
   "execution_count": null,
   "outputs": [],
   "source": [
    "N_test = 100\n",
    "\n",
    "targets_test = np.random.uniform(-10, 10, (N_test, 3))\n",
    "B = []\n",
    "\n",
    "for M in targets_test:\n",
    "    B.append(total_field(r0, M*m))\n",
    "    \n",
    "B_test = np.array(B)\n",
    "\n",
    "# np.save(\"data\\B_test.npy\", B_test)\n",
    "# np.save(\"data\\M_test.npy\", targets_test)\n"
   ],
   "metadata": {
    "collapsed": false,
    "pycharm": {
     "name": "#%%testing set \n"
    }
   }
  },
  {
   "cell_type": "code",
   "execution_count": null,
   "outputs": [],
   "source": [],
   "metadata": {
    "collapsed": false
   }
  },
  {
   "cell_type": "code",
   "execution_count": null,
   "outputs": [],
   "source": [],
   "metadata": {
    "collapsed": false
   }
  }
 ],
 "metadata": {
  "kernelspec": {
   "display_name": "Python 3 (ipykernel)",
   "language": "python",
   "name": "python3"
  },
  "language_info": {
   "codemirror_mode": {
    "name": "ipython",
    "version": 3
   },
   "file_extension": ".py",
   "mimetype": "text/x-python",
   "name": "python",
   "nbconvert_exporter": "python",
   "pygments_lexer": "ipython3",
   "version": "3.9.13"
  }
 },
 "nbformat": 4,
 "nbformat_minor": 5
}
