{
 "cells": [
  {
   "cell_type": "markdown",
   "source": [
    "# Intro\n",
    "\n",
    "In this notebook, we simulate the field created by the TRIF electromagnet and save it as a data set. This data set is going to be used to test our calibration approach.\n",
    "\n",
    "We model the electromagnet as three magnetic dipoles oriented in the same direction. The dipoles are located in the same plain at the same distance from the axis of symmetry, and their position vectors are at $120^0$ with respect to each other. We also assume that there can be a uniform external magnetic field."
   ],
   "metadata": {
    "collapsed": false
   }
  },
  {
   "cell_type": "code",
   "execution_count": 3,
   "id": "f8078939",
   "metadata": {},
   "outputs": [],
   "source": [
    "import numpy as np\n",
    "import pandas as pd\n",
    "import matplotlib.pyplot as plt"
   ]
  },
  {
   "cell_type": "code",
   "execution_count": 2,
   "id": "fee8fb9c",
   "metadata": {},
   "outputs": [],
   "source": [
    "def mag(x):\n",
    "    \"\"\"Calculates magnitude of vector x\"\"\"\n",
    "    return np.sqrt(np.dot(x,x))\n",
    "\n",
    "def dipole_field(r, r0, m, a):\n",
    "    \"\"\"\n",
    "    Calculates magnetic field of a single dipole\n",
    "    r - location of the field\n",
    "    r0 - position of the dipole\n",
    "    m - magnitude of the dipole\n",
    "    a - dipole axis\"\"\"\n",
    "    M = m*a   # Magnetic moment vector\n",
    "    R = r-r0\n",
    "    if np.dot(R,R) == 0: #This one is to avoid singularities\n",
    "        return np.array([0, 0, 0])\n",
    "    return mu0*(3*R*(np.dot(M,R))/(mag(R)**5) - M/(mag(R)**3))"
   ]
  },
  {
   "cell_type": "code",
   "execution_count": 5,
   "id": "854a922a",
   "metadata": {},
   "outputs": [],
   "source": [
    "mu0 = 10**-7# magnetic constant\n",
    "\n",
    "m = 1e8 #magnetic dipole magnitude\n",
    "#A = np.array([0,0.5,1]) #magnetic dipole axis\n",
    "R1 = np.array([1, 0, 1]) #magnetic dipole1 position\n",
    "R2 = np.array([-np.cos(np.pi/3), np.sin(np.pi/3), 1]) #magnetic dipole2 position\n",
    "R3 = np.array([-np.cos(np.pi/3), -np.sin(np.pi/3), 1]) #magnetic dipole3 position\n",
    "\n",
    "A1 = np.array([0, 0, 1]) #dipole 1 axis\n",
    "A2 = np.array([0, 0, 1])# dipole 2 axis\n",
    "A3 = np.array([0, 0, 1])# dipole 3 axis\n",
    "\n",
    "r0 = np.array([0., 0., 0.])# sensor position\n",
    "\n",
    "\n",
    "B_uniform = np.array([0.,0.,0.]) # uniform magnetic field"
   ]
  },
  {
   "cell_type": "code",
   "execution_count": 6,
   "id": "8dea0059",
   "metadata": {},
   "outputs": [],
   "source": [
    "def total_field(r, M):\n",
    "    B1 = dipole_field(r, R1, M[0], A1, B_uniform)\n",
    "    B2 = dipole_field(r, R2, M[1], A2, B_uniform)\n",
    "    B3 = dipole_field(r, R3, M[2], A3, B_uniform)\n",
    "    return B1+B2+B3"
   ]
  },
  {
   "cell_type": "code",
   "execution_count": 8,
   "id": "fcf460ae",
   "metadata": {
    "pycharm": {
     "name": "#%% training sets for individual dipoles\n"
    }
   },
   "outputs": [],
   "source": [
    "N1 = 501 # number of training samples for each dipole\n",
    "M1 = np.concatenate((np.linspace(-10, 10, N1), np.zeros((N1)), np.zeros(N1)))\n",
    "M2 = np.concatenate((np.zeros((N1)), np.linspace(-10, 10, N1),  np.zeros(N1)))\n",
    "M3 = np.concatenate((np.zeros((N1)), np.zeros(N1), np.linspace(-10, 10, N1)))\n",
    "\n",
    "targets=np.stack((M1, M2, M3), axis=1)"
   ]
  },
  {
   "cell_type": "code",
   "execution_count": 9,
   "id": "88c7f215",
   "metadata": {},
   "outputs": [],
   "source": []
  },
  {
   "cell_type": "code",
   "execution_count": 10,
   "id": "44182957",
   "metadata": {
    "pycharm": {
     "name": "#%% training sets for random dipoles\n"
    }
   },
   "outputs": [],
   "source": [
    "N2 = 1000 # \n",
    "\n",
    "M = np.random.uniform(-10, 10, (N2, 3))\n",
    "\n",
    "targets_train = np.concatenate((targets, M))"
   ]
  },
  {
   "cell_type": "code",
   "execution_count": 11,
   "id": "8c2b9551",
   "metadata": {},
   "outputs": [
    {
     "data": {
      "text/plain": [
       "array([[ 39.39674625, -44.56902771,   0.29159534],\n",
       "       [ -2.85143834, -40.70641122,  -9.39833774],\n",
       "       [-23.4022467 ,  -1.2253115 ,  11.01270276],\n",
       "       [-46.30480683,  -2.53196231,  20.76791632],\n",
       "       [-39.01847508, -63.18613903,  -6.35479905],\n",
       "       [ 23.02178685,  51.78354813,   2.06312332],\n",
       "       [ 29.34431678,  55.87896934,   4.12428144],\n",
       "       [  0.24141003,   6.92690776, -32.92589797],\n",
       "       [ 56.36041573, -31.89728789,   2.36253699],\n",
       "       [ 10.61469723, -36.93994558,   4.79567754],\n",
       "       [  4.32039958, -42.75303842,  21.67992002],\n",
       "       [ -3.64898075,  15.68275344,  -3.99450058],\n",
       "       [ -3.29439309, -39.75004107,  27.81606159],\n",
       "       [ 34.90960462, -19.28176982, -25.95254289],\n",
       "       [ -5.31731177,   2.73877974,  43.27209466],\n",
       "       [ 56.16557908,   5.88064175, -17.53235435],\n",
       "       [-56.98800704, -20.86647678,  -9.0553554 ],\n",
       "       [  4.49841839, -17.05539242,  44.47579374],\n",
       "       [-61.23131563,  12.89918552,  -6.43465225],\n",
       "       [ 62.77113018, -60.63384292,  11.127647  ],\n",
       "       [ -7.77931269, -70.93451259,  -1.07234771],\n",
       "       [ 13.12361115, -14.85838801, -28.092885  ],\n",
       "       [-25.61276665,  82.91728802, -10.21961015],\n",
       "       [-36.29572845,  -0.12660821,  13.89273152],\n",
       "       [ 22.89302531,  37.26107242,  29.22618472],\n",
       "       [-22.66006431,  10.79332361,  24.6085344 ],\n",
       "       [-30.33237693, -21.35922895,  29.41077627],\n",
       "       [ 53.91995869, -22.09374263,   8.70722788],\n",
       "       [-17.13044734,  -5.2412225 , -33.93771157],\n",
       "       [-27.25956794,  58.2600846 ,   6.12068257],\n",
       "       [ 47.79685534,  49.47032019,  20.50310487],\n",
       "       [  5.93591511, -38.38544502,   0.93158151],\n",
       "       [  8.25980157, -13.381949  ,  42.86703729],\n",
       "       [ 22.67502966, -26.7040364 ,  30.42349031],\n",
       "       [-24.74678864,  23.70168111,  30.50991563],\n",
       "       [ 12.83798616,  56.83116035,  13.04273416],\n",
       "       [ 82.42628433,  22.8550565 ,  -9.30866208],\n",
       "       [  1.1311669 , -22.92185084,   5.1262217 ],\n",
       "       [ 59.54304359, -18.92172562,  -3.19521971],\n",
       "       [ 14.40488335, -22.09717725,  27.64912425],\n",
       "       [ 49.21574715,   2.88791914, -21.18610827],\n",
       "       [ -2.50932523,  12.07127779, -33.88131076],\n",
       "       [ 26.13809519, -53.57068029,  -9.3712974 ],\n",
       "       [-42.02191228,  73.23698194,  -5.74612047],\n",
       "       [  1.94296117, -12.26010193, -26.83396263],\n",
       "       [ 29.48675825,  -2.35634287,  21.22722341],\n",
       "       [-50.33487288,  59.6657662 ,  -6.10513965],\n",
       "       [ 18.55244029, -67.35072239,   2.29934341],\n",
       "       [-32.75182456, -22.11395381, -24.81015793],\n",
       "       [ 56.05574038,  14.68908228,   8.43132121],\n",
       "       [-24.6950676 ,  17.80691139,  18.76452272],\n",
       "       [ -2.11611256, -30.59340977,   9.21664587],\n",
       "       [ 13.03644988,  65.33326188,   3.33849475],\n",
       "       [ 19.44347172,  10.07095214, -30.47198143],\n",
       "       [-63.13079062,  23.14339445,  14.06989794],\n",
       "       [ 65.37223164, -31.04489493,   2.95399847],\n",
       "       [ 14.91452207,  11.2780283 , -14.95510833],\n",
       "       [-34.46709415, -20.64041487,   4.96312414],\n",
       "       [-23.24274009,  61.66374682,  -4.37701955],\n",
       "       [ 19.68209111,   8.99813097,   6.13843285],\n",
       "       [-13.29537609, -27.46107177,  24.67725958],\n",
       "       [-17.92342795,  20.40637115,  22.92319702],\n",
       "       [ 19.88153916, -15.43320299,  14.57800304],\n",
       "       [ 55.25818719, -23.30324792,  -5.94183993],\n",
       "       [-41.2405193 ,  50.62967714,  -6.32258183],\n",
       "       [ 53.2561011 ,  52.52097516,  -1.0175851 ],\n",
       "       [ -0.39203328,   1.09378357,  12.25777273],\n",
       "       [-46.29843715,  44.70040878,   6.89150644],\n",
       "       [ 59.73012875,  73.11882013,  11.02142755],\n",
       "       [-39.30471798,  17.68895771, -22.32137137],\n",
       "       [ 39.35252914, -73.73645372,   9.49290749],\n",
       "       [-34.31317793,  59.56617431,  -4.8205213 ],\n",
       "       [  6.5166609 , -78.37347981,   0.20630121],\n",
       "       [-85.35513859, -22.03340771,   6.88186581],\n",
       "       [-23.37038527,   3.98888381, -20.9575977 ],\n",
       "       [-62.97208328,  -2.45192325,  -3.8374709 ],\n",
       "       [ 27.74194587,  44.02603334,   7.42147383],\n",
       "       [-43.35031405,  48.94591546,  10.2019276 ],\n",
       "       [-94.91907185,   6.62569351,  16.97344432],\n",
       "       [ 85.58604626,  12.48278525, -12.05125338],\n",
       "       [ -1.24318532,  13.64050065,   4.0378784 ],\n",
       "       [-26.64658266,   2.52997773,   6.88658045],\n",
       "       [ 60.57475927, -51.80559778,  10.57046861],\n",
       "       [ 38.25926489,  45.17546366,   5.51609431],\n",
       "       [ 59.53622732, -59.94080659,   2.80737069],\n",
       "       [-23.10684655,  24.90490231,   3.03559835],\n",
       "       [-14.00979809,  24.271765  ,  25.63519111],\n",
       "       [-39.97534574,  28.85153239,   7.00492786],\n",
       "       [ -7.71493197, -33.21866829, -17.95787816],\n",
       "       [  6.98628911,  22.02248663, -33.0229942 ],\n",
       "       [-17.84254613,  35.64342548,  19.5328385 ],\n",
       "       [-29.08408577,  19.4742839 ,   4.61569305],\n",
       "       [ 39.57365453, -62.55434216,  24.99123105],\n",
       "       [-24.97516674,   5.42404862,   9.26372191],\n",
       "       [ 58.35917219,  54.2605826 ,  -1.31174133],\n",
       "       [-33.67026886,  16.36521818, -10.7973803 ],\n",
       "       [ 53.36894244, -14.66305908,  -5.02749369],\n",
       "       [ -8.35763185,  32.0449112 ,  28.59049269],\n",
       "       [-64.72498506,  -4.22021813,   6.44768574],\n",
       "       [-23.86258404, -34.82117059, -11.50418563]])"
      ]
     },
     "execution_count": 11,
     "metadata": {},
     "output_type": "execute_result"
    }
   ],
   "source": []
  },
  {
   "cell_type": "code",
   "execution_count": null,
   "id": "c42ba86c",
   "metadata": {
    "pycharm": {
     "name": "#%% calculate B field\n"
    }
   },
   "outputs": [],
   "source": [
    "B = []\n",
    "\n",
    "for M in targets_train:\n",
    "    B.append(total_field(r0, M*m))\n",
    "    \n",
    "B_train = np.array(B)\n",
    "\n",
    "Training_set = pd.DataFrame(np.concatenate((B_train, targets_train), axis = 1), columns = [\"B_x\", \"B_y\", \"B_z\", \"M_1\", \"M_2\", \"M_3\"])\n",
    "\n",
    "# np.save(\"data\\B_train.npy\", B_train)\n",
    "# np.save(\"data\\M_train.npy\", targets_train)"
   ]
  },
  {
   "cell_type": "code",
   "execution_count": null,
   "outputs": [],
   "source": [],
   "metadata": {
    "collapsed": false
   }
  },
  {
   "cell_type": "code",
   "execution_count": null,
   "outputs": [],
   "source": [
    "N_test = 100\n",
    "\n",
    "targets_test = np.random.uniform(-10, 10, (N_test, 3))\n",
    "B = []\n",
    "\n",
    "for M in targets_test:\n",
    "    B.append(total_field(r0, M*m))\n",
    "    \n",
    "B_test = np.array(B)\n",
    "\n",
    "# np.save(\"data\\B_test.npy\", B_test)\n",
    "# np.save(\"data\\M_test.npy\", targets_test)\n"
   ],
   "metadata": {
    "collapsed": false,
    "pycharm": {
     "name": "#%%testing set \n"
    }
   }
  },
  {
   "cell_type": "code",
   "execution_count": null,
   "outputs": [],
   "source": [],
   "metadata": {
    "collapsed": false
   }
  },
  {
   "cell_type": "code",
   "execution_count": null,
   "outputs": [],
   "source": [],
   "metadata": {
    "collapsed": false
   }
  }
 ],
 "metadata": {
  "kernelspec": {
   "display_name": "Python 3 (ipykernel)",
   "language": "python",
   "name": "python3"
  },
  "language_info": {
   "codemirror_mode": {
    "name": "ipython",
    "version": 3
   },
   "file_extension": ".py",
   "mimetype": "text/x-python",
   "name": "python",
   "nbconvert_exporter": "python",
   "pygments_lexer": "ipython3",
   "version": "3.9.13"
  }
 },
 "nbformat": 4,
 "nbformat_minor": 5
}
