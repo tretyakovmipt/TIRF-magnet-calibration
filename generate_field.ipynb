{
 "cells": [
  {
   "cell_type": "markdown",
   "source": [
    "In this notebook, we simulate the field created by the TRIF electromagnet and save it as a data set. This data set is going to be used to test our calibration approach.\n",
    "\n",
    "The electromagnet has three poles, that we model as three magnetic dipoles oriented in the same direction (physically, each pole is a coil wrapped around a ferromagnetic core). The dipoles are located in the same plain at the same distance from the axis of symmetry, and their position vectors are at $120^0$ with respect to each other.\n",
    "\n",
    "Here we create a set of various dipole magnitudes and calculate the corresponding magnetic field.\n",
    "\n",
    "In the experiment each dipole magnitude corresponds to a voltage applied to the corresponding coil inside the magnet. In case of linear relationship between the voltage and magnetic field vector, it is enough to collect and combine the field-vs-voltage characteristic from each individual coil. We'll save this data set separately as linear_calibration_set.csv.\n",
    "\n",
    "In the non-linear case, in order to properly train an artificial neural network, we'll additionally need data with all coils receiving voltage simultaneously.\n",
    "\n",
    "Since a constant ambient field can be easily dealt with by subtracting its value from the data set, we do not consider it here.\n",
    "\n",
    "***"
   ],
   "metadata": {
    "collapsed": false
   }
  },
  {
   "cell_type": "code",
   "execution_count": 1,
   "id": "f8078939",
   "metadata": {},
   "outputs": [],
   "source": [
    "import numpy as np\n",
    "import pandas as pd"
   ]
  },
  {
   "cell_type": "code",
   "execution_count": 2,
   "id": "fee8fb9c",
   "metadata": {},
   "outputs": [],
   "source": [
    "# Functions for the field calculations\n",
    "\n",
    "def mag(x):\n",
    "    \"\"\"Calculates magnitude of vector x\"\"\"\n",
    "    return np.sqrt(np.dot(x,x))\n",
    "\n",
    "def dipole_field(r, r0, m, a):\n",
    "    \"\"\"\n",
    "    Calculates magnetic field of a single dipole\n",
    "    r - location of the field\n",
    "    r0 - position of the dipole\n",
    "    m - magnitude of the dipole. Negative values correspond to the opposite orientation of  the dipole axis\n",
    "    a - dipole axis\"\"\"\n",
    "    M = m*a   # Magnetic moment vector\n",
    "    R = r-r0\n",
    "    if np.dot(R,R) == 0: #This one is to avoid singularities\n",
    "        return np.array([0, 0, 0])\n",
    "    return mu0*(3*R*(np.dot(M,R))/(mag(R)**5) - M/(mag(R)**3))\n",
    "\n",
    "def total_field(r, m_array: np.array, dipole_axis: np.array) -> np.array:\n",
    "    \"\"\"Calculates the total field at point r\n",
    "    To simplify the data set generation later, the magnitudes of the three dipoles are placed in array m.\n",
    "    B0 is the external field.\n",
    "    dipole_axis is the dipole orientation (same for all three)\"\"\"\n",
    "    B1 = dipole_field(r, R1, m_array[0], dipole_axis)\n",
    "    B2 = dipole_field(r, R2, m_array[1], dipole_axis)\n",
    "    B3 = dipole_field(r, R3, m_array[2], dipole_axis)\n",
    "    return B1+B2+B3"
   ]
  },
  {
   "cell_type": "code",
   "execution_count": 3,
   "id": "854a922a",
   "metadata": {},
   "outputs": [],
   "source": [
    "# Constants and the setup parameters\n",
    "\n",
    "mu0 = 10**-7# magnetic constant\n",
    "m = 1e8 # Scaling factor magnetic dipole magnitude\n",
    "\n",
    "# Magnetic dipole position vectors\n",
    "R1 = np.array([1, 0, 1])\n",
    "R2 = np.array([-np.cos(np.pi/3), np.sin(np.pi/3), 1])\n",
    "R3 = np.array([-np.cos(np.pi/3), -np.sin(np.pi/3), 1])\n",
    "\n",
    "# Magnetic dipole orientation (same for all three)\n",
    "A = np.array([0, 0, 1]) # It is a global variable\n",
    "\n",
    "# The magnetometer location. Magnetic field is calculated here\n",
    "r0 = np.array([0., 0., 0.])\n",
    "\n",
    "# Voltage range\n",
    "v_range = 10"
   ]
  },
  {
   "cell_type": "markdown",
   "source": [
    "***"
   ],
   "metadata": {
    "collapsed": false
   }
  },
  {
   "cell_type": "markdown",
   "source": [
    "# Linear case"
   ],
   "metadata": {
    "collapsed": false
   }
  },
  {
   "cell_type": "code",
   "execution_count": 4,
   "id": "fcf460ae",
   "metadata": {
    "pycharm": {
     "name": "#%% training sets for individual dipoles\n"
    }
   },
   "outputs": [
    {
     "name": "stdout",
     "output_type": "stream",
     "text": [
      "V_ind \n",
      "= [[-10.     0.     0.  ]\n",
      " [ -9.96   0.     0.  ]\n",
      " [ -9.92   0.     0.  ]\n",
      " ...\n",
      " [  0.     0.     9.92]\n",
      " [  0.     0.     9.96]\n",
      " [  0.     0.    10.  ]]\n"
     ]
    }
   ],
   "source": [
    "# Apply voltage to a single coil in a linear fashion\n",
    "\n",
    "N1 = 501 # Number of training samples for each dipole\n",
    "\n",
    "V1 = np.concatenate((np.linspace(-v_range, v_range, N1), np.zeros(N1), np.zeros(N1)))\n",
    "V2 = np.concatenate((np.zeros(N1), np.linspace(-v_range, v_range, N1), np.zeros(N1)))\n",
    "V3 = np.concatenate((np.zeros(N1), np.zeros(N1), np.linspace(-v_range, v_range, N1)))\n",
    "\n",
    "V_ind = np.stack((V1, V2, V3), axis=1) # Stack vertically\n",
    "print(\"V_ind \\n=\", V_ind)"
   ]
  },
  {
   "cell_type": "code",
   "execution_count": 5,
   "outputs": [],
   "source": [
    "# Calculate magnetic field\n",
    "\n",
    "B_ind = []\n",
    "for V in V_ind:\n",
    "    B_ind.append(total_field(r0, V * m, A))\n",
    "\n",
    "individual_calibration_set = pd.DataFrame(np.concatenate((B_ind, V_ind), axis = 1), columns = [\"B_x\", \"B_y\", \"B_z\", \"V_1\", \"V_2\", \"V_3\"]) # Combine fields and voltages into a single dataset"
   ],
   "metadata": {
    "collapsed": false
   }
  },
  {
   "cell_type": "code",
   "execution_count": 6,
   "outputs": [
    {
     "data": {
      "text/plain": "         B_x  B_y        B_z    V_1  V_2  V_3\n0 -53.033009  0.0 -17.677670 -10.00  0.0  0.0\n1 -52.820877  0.0 -17.606959  -9.96  0.0  0.0\n2 -52.608745  0.0 -17.536248  -9.92  0.0  0.0\n3 -52.396612  0.0 -17.465537  -9.88  0.0  0.0\n4 -52.184480  0.0 -17.394827  -9.84  0.0  0.0",
      "text/html": "<div>\n<style scoped>\n    .dataframe tbody tr th:only-of-type {\n        vertical-align: middle;\n    }\n\n    .dataframe tbody tr th {\n        vertical-align: top;\n    }\n\n    .dataframe thead th {\n        text-align: right;\n    }\n</style>\n<table border=\"1\" class=\"dataframe\">\n  <thead>\n    <tr style=\"text-align: right;\">\n      <th></th>\n      <th>B_x</th>\n      <th>B_y</th>\n      <th>B_z</th>\n      <th>V_1</th>\n      <th>V_2</th>\n      <th>V_3</th>\n    </tr>\n  </thead>\n  <tbody>\n    <tr>\n      <th>0</th>\n      <td>-53.033009</td>\n      <td>0.0</td>\n      <td>-17.677670</td>\n      <td>-10.00</td>\n      <td>0.0</td>\n      <td>0.0</td>\n    </tr>\n    <tr>\n      <th>1</th>\n      <td>-52.820877</td>\n      <td>0.0</td>\n      <td>-17.606959</td>\n      <td>-9.96</td>\n      <td>0.0</td>\n      <td>0.0</td>\n    </tr>\n    <tr>\n      <th>2</th>\n      <td>-52.608745</td>\n      <td>0.0</td>\n      <td>-17.536248</td>\n      <td>-9.92</td>\n      <td>0.0</td>\n      <td>0.0</td>\n    </tr>\n    <tr>\n      <th>3</th>\n      <td>-52.396612</td>\n      <td>0.0</td>\n      <td>-17.465537</td>\n      <td>-9.88</td>\n      <td>0.0</td>\n      <td>0.0</td>\n    </tr>\n    <tr>\n      <th>4</th>\n      <td>-52.184480</td>\n      <td>0.0</td>\n      <td>-17.394827</td>\n      <td>-9.84</td>\n      <td>0.0</td>\n      <td>0.0</td>\n    </tr>\n  </tbody>\n</table>\n</div>"
     },
     "execution_count": 6,
     "metadata": {},
     "output_type": "execute_result"
    }
   ],
   "source": [
    "individual_calibration_set.head()"
   ],
   "metadata": {
    "collapsed": false
   }
  },
  {
   "cell_type": "code",
   "execution_count": 7,
   "outputs": [],
   "source": [
    "# Save\n",
    "individual_calibration_set.to_csv('data/individual_calibration_set.csv')"
   ],
   "metadata": {
    "collapsed": false
   }
  },
  {
   "cell_type": "markdown",
   "source": [
    "***"
   ],
   "metadata": {
    "collapsed": false
   }
  },
  {
   "cell_type": "markdown",
   "source": [
    "# Non-linear case\n",
    "As the non-linearity, we apply a hyperbolic tangent to the voltage before calculating the field. Since in this case we'll need to use deep learning, we generate two sets: one for training and one for validation."
   ],
   "metadata": {
    "collapsed": false
   },
   "outputs": []
  },
  {
   "cell_type": "markdown",
   "source": [
    "\n",
    "## Training set"
   ],
   "metadata": {
    "collapsed": false
   }
  },
  {
   "cell_type": "code",
   "execution_count": 11,
   "outputs": [],
   "source": [
    "nf = 15 # Non-linearity factor"
   ],
   "metadata": {
    "collapsed": false
   }
  },
  {
   "cell_type": "markdown",
   "source": [
    "For visualization purposes, we create a set with only one magnetic pole activated at a time, by applying the non-linearity to the linear set."
   ],
   "metadata": {
    "collapsed": false
   }
  },
  {
   "cell_type": "code",
   "execution_count": 12,
   "outputs": [],
   "source": [
    "V_nl_ind = v_range*np.tanh(V_ind/nf)\n",
    "B_nl_ind = []\n",
    "for V in V_ind:\n",
    "    B_nl_ind.append(total_field(r0, V * m, A))\n",
    "\n",
    "nl_individual_calibration_set = pd.DataFrame(np.concatenate((B_nl_ind, V_nl_ind), axis = 1), columns = [\"B_x\", \"B_y\", \"B_z\", \"V_1\", \"V_2\", \"V_3\"]) # Combine fields and voltages into a single dataset"
   ],
   "metadata": {
    "collapsed": false
   }
  },
  {
   "cell_type": "code",
   "execution_count": 13,
   "outputs": [],
   "source": [
    "# Save\n",
    "nl_individual_calibration_set.to_csv('data/nl_individual_calibration_set.csv')"
   ],
   "metadata": {
    "collapsed": false
   }
  },
  {
   "cell_type": "code",
   "execution_count": 14,
   "outputs": [
    {
     "name": "stdout",
     "output_type": "stream",
     "text": [
      "         B_x  B_y        B_z       V_1  V_2  V_3\n",
      "0 -30.906733  0.0 -10.302244 -5.827829  0.0  0.0\n",
      "1 -30.813198  0.0 -10.271066 -5.810192  0.0  0.0\n",
      "2 -30.719373  0.0 -10.239791 -5.792501  0.0  0.0\n",
      "3 -30.625258  0.0 -10.208419 -5.774754  0.0  0.0\n",
      "4 -30.530852  0.0 -10.176951 -5.756953  0.0  0.0\n",
      "            B_x        B_y        B_z       V_1       V_2       V_3\n",
      "3498 -55.354045  -0.000020  34.581643 -0.437662  9.999994  9.999999\n",
      "3499 -52.638084 -90.768781 -17.605240 -9.936697 -9.892818  9.870488\n",
      "3500 -56.873362 -85.194456 -15.117316 -9.999978 -8.550631  9.998964\n",
      "3501  34.296060 -58.534317  -7.805957  2.839379 -9.999957  2.744861\n",
      "3502   0.001350  -0.002355  53.032093  9.999997  9.999486  9.999999\n"
     ]
    }
   ],
   "source": [
    "\n",
    "# Apply random voltages to all three coils\n",
    "N2 = 2000 # Total number of values\n",
    "V_rand = v_range*np.tanh(np.random.uniform(-v_range, v_range, (N2, 3))) # Random voltages between -10 and 10\n",
    "V_full = np.concatenate((V_nl_ind, V_rand)) # stack with the individual voltage set\n",
    "# Calculate magnetic field\n",
    "\n",
    "B_full = []\n",
    "for V in V_full:\n",
    "    B_full.append(total_field(r0, V * m, A))\n",
    "\n",
    "full_calibration_set = pd.DataFrame(np.concatenate((B_full, V_full), axis = 1), columns = [\"B_x\", \"B_y\", \"B_z\", \"V_1\", \"V_2\", \"V_3\"]) # Combine fields and voltages into a single dataset\n",
    "print(full_calibration_set.head())\n",
    "print(full_calibration_set.tail())"
   ],
   "metadata": {
    "collapsed": false
   }
  },
  {
   "cell_type": "code",
   "execution_count": 15,
   "outputs": [],
   "source": [
    "# Save\n",
    "full_calibration_set.to_csv('data/full_calibration_set.csv')"
   ],
   "metadata": {
    "collapsed": false
   }
  },
  {
   "cell_type": "markdown",
   "source": [
    "### Validation set for deep learning\n",
    "\n",
    "We'll use this set to monitor the neural network performance during training in the non-linear case."
   ],
   "metadata": {
    "collapsed": false
   }
  },
  {
   "cell_type": "code",
   "execution_count": 16,
   "outputs": [],
   "source": [
    "N_val = 500"
   ],
   "metadata": {
    "collapsed": false,
    "pycharm": {
     "name": "#%%testing set \n"
    }
   }
  },
  {
   "cell_type": "code",
   "execution_count": 17,
   "outputs": [],
   "source": [
    "\n",
    "V_val = v_range*np.tanh(np.random.uniform(-v_range, v_range, (N_val, 3))) # Random voltages between -10 and 10\n",
    "B_val = []\n",
    "\n",
    "for V in V_val:\n",
    "    B_val.append(total_field(r0, V * m, A))\n",
    "\n",
    "val_set = pd.DataFrame(np.concatenate((B_val, V_val), axis = 1), columns = [\"B_x\", \"B_y\", \"B_z\", \"V_1\", \"V_2\", \"V_3\"])"
   ],
   "metadata": {
    "collapsed": false
   }
  },
  {
   "cell_type": "code",
   "execution_count": 18,
   "outputs": [
    {
     "data": {
      "text/plain": "          B_x        B_y        B_z        V_1       V_2       V_3\n0  -52.904322  91.855319 -17.634511  -9.975685  9.999990 -9.999891\n1   53.033306  91.855285  17.677455   9.999997  9.999878 -9.999996\n2 -106.036466  -0.051155  17.657975  -9.999999  9.988860  9.999998\n3  -53.098120 -91.742938 -17.634260 -10.000000 -9.975428  9.999984\n4   58.257248 -81.736270  14.149779   9.991503 -9.891907  7.904729",
      "text/html": "<div>\n<style scoped>\n    .dataframe tbody tr th:only-of-type {\n        vertical-align: middle;\n    }\n\n    .dataframe tbody tr th {\n        vertical-align: top;\n    }\n\n    .dataframe thead th {\n        text-align: right;\n    }\n</style>\n<table border=\"1\" class=\"dataframe\">\n  <thead>\n    <tr style=\"text-align: right;\">\n      <th></th>\n      <th>B_x</th>\n      <th>B_y</th>\n      <th>B_z</th>\n      <th>V_1</th>\n      <th>V_2</th>\n      <th>V_3</th>\n    </tr>\n  </thead>\n  <tbody>\n    <tr>\n      <th>0</th>\n      <td>-52.904322</td>\n      <td>91.855319</td>\n      <td>-17.634511</td>\n      <td>-9.975685</td>\n      <td>9.999990</td>\n      <td>-9.999891</td>\n    </tr>\n    <tr>\n      <th>1</th>\n      <td>53.033306</td>\n      <td>91.855285</td>\n      <td>17.677455</td>\n      <td>9.999997</td>\n      <td>9.999878</td>\n      <td>-9.999996</td>\n    </tr>\n    <tr>\n      <th>2</th>\n      <td>-106.036466</td>\n      <td>-0.051155</td>\n      <td>17.657975</td>\n      <td>-9.999999</td>\n      <td>9.988860</td>\n      <td>9.999998</td>\n    </tr>\n    <tr>\n      <th>3</th>\n      <td>-53.098120</td>\n      <td>-91.742938</td>\n      <td>-17.634260</td>\n      <td>-10.000000</td>\n      <td>-9.975428</td>\n      <td>9.999984</td>\n    </tr>\n    <tr>\n      <th>4</th>\n      <td>58.257248</td>\n      <td>-81.736270</td>\n      <td>14.149779</td>\n      <td>9.991503</td>\n      <td>-9.891907</td>\n      <td>7.904729</td>\n    </tr>\n  </tbody>\n</table>\n</div>"
     },
     "execution_count": 18,
     "metadata": {},
     "output_type": "execute_result"
    }
   ],
   "source": [
    "val_set.head()"
   ],
   "metadata": {
    "collapsed": false
   }
  },
  {
   "cell_type": "code",
   "execution_count": 19,
   "outputs": [],
   "source": [
    "# Save\n",
    "val_set.to_csv('data/validation_set.csv')"
   ],
   "metadata": {
    "collapsed": false
   }
  }
 ],
 "metadata": {
  "kernelspec": {
   "display_name": "Python 3 (ipykernel)",
   "language": "python",
   "name": "python3"
  },
  "language_info": {
   "codemirror_mode": {
    "name": "ipython",
    "version": 3
   },
   "file_extension": ".py",
   "mimetype": "text/x-python",
   "name": "python",
   "nbconvert_exporter": "python",
   "pygments_lexer": "ipython3",
   "version": "3.9.13"
  }
 },
 "nbformat": 4,
 "nbformat_minor": 5
}
