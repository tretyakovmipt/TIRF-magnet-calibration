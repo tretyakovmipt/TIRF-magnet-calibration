{
 "cells": [
  {
   "cell_type": "markdown",
   "source": [
    "In this notebook, we simulate the field created by the TRIF electromagnet and save it as a data set. This data set is going to be used to test our calibration approach.\n",
    "\n",
    "The electromagnet has three poles, that we model as three magnetic dipoles oriented in the same direction (physically, each pole is a coil wrapped around a ferromagnetic core). The dipoles are located in the same plain at the same distance from the axis of symmetry, and their position vectors are at $120^0$ with respect to each other. We also assume that there can be a uniform external magnetic field.\n",
    "\n",
    "***"
   ],
   "metadata": {
    "collapsed": false
   }
  },
  {
   "cell_type": "markdown",
   "source": [
    "## Setup"
   ],
   "metadata": {
    "collapsed": false
   }
  },
  {
   "cell_type": "code",
   "execution_count": 22,
   "id": "f8078939",
   "metadata": {},
   "outputs": [],
   "source": [
    "import numpy as np\n",
    "import pandas as pd\n",
    "import matplotlib.pyplot as plt"
   ]
  },
  {
   "cell_type": "code",
   "execution_count": 23,
   "id": "fee8fb9c",
   "metadata": {},
   "outputs": [],
   "source": [
    "# Functions for the field calculations\n",
    "\n",
    "def mag(x):\n",
    "    \"\"\"Calculates magnitude of vector x\"\"\"\n",
    "    return np.sqrt(np.dot(x,x))\n",
    "\n",
    "def dipole_field(r, r0, m, a):\n",
    "    \"\"\"\n",
    "    Calculates magnetic field of a single dipole\n",
    "    r - location of the field\n",
    "    r0 - position of the dipole\n",
    "    m - magnitude of the dipole. Negative values correspond to the opposite orientation of  the dipole axis\n",
    "    a - dipole axis\"\"\"\n",
    "    M = m*a   # Magnetic moment vector\n",
    "    R = r-r0\n",
    "    if np.dot(R,R) == 0: #This one is to avoid singularities\n",
    "        return np.array([0, 0, 0])\n",
    "    return mu0*(3*R*(np.dot(M,R))/(mag(R)**5) - M/(mag(R)**3))\n",
    "\n",
    "def total_field(r, m_array: np.array, B0: np.array, dipole_axis: np.array) -> np.array:\n",
    "    \"\"\"Calculates the total field at point r\n",
    "    To simplify the data set generation later, the magnitudes of the three dipoles are placed in array m.\n",
    "    B0 is the external field.\n",
    "    dipole_axis is the dipole orientation (same for all three)\"\"\"\n",
    "    B1 = dipole_field(r, R1, m_array[0], dipole_axis)\n",
    "    B2 = dipole_field(r, R2, m_array[1], dipole_axis)\n",
    "    B3 = dipole_field(r, R3, m_array[2], dipole_axis)\n",
    "    return B1+B2+B3+B0"
   ]
  },
  {
   "cell_type": "code",
   "execution_count": 24,
   "id": "854a922a",
   "metadata": {},
   "outputs": [],
   "source": [
    "# Constants and the setup parameters\n",
    "\n",
    "mu0 = 10**-7# magnetic constant\n",
    "m = 1e8 # Scaling factor magnetic dipole magnitude\n",
    "\n",
    "# Magnetic dipole position vectors\n",
    "R1 = np.array([1, 0, 1])\n",
    "R2 = np.array([-np.cos(np.pi/3), np.sin(np.pi/3), 1])\n",
    "R3 = np.array([-np.cos(np.pi/3), -np.sin(np.pi/3), 1])\n",
    "\n",
    "# Magnetic dipole orientation (same for all three)\n",
    "A = np.array([0, 0, 1]) # It is a global variable\n",
    "\n",
    "# External magnetic field\n",
    "B_uniform = np.array([0.,0.,0.])\n",
    "\n",
    "# The magnetometer location. Magnetic field is calculated here\n",
    "r0 = np.array([0., 0., 0.])"
   ]
  },
  {
   "cell_type": "markdown",
   "source": [
    "## Generate the calibration data set\n",
    "\n",
    "Here we create a set of various dipole magnitudes and calculate the corresponding magnetic field.\n",
    "\n",
    "In the experiment each dipole magnitude corresponds to a voltage applied to the corresponding coil inside the magnet. In case of linear relationship between the voltage and magnetic field vector, it is enough to collect and combine the field-vs-voltage characteristic from each individual coil. We'll save this data set separately as linear_calibration_set.csv.\n",
    "\n",
    "In the non-linear case, in order to properly train an artificial neural network, we'll additionally need data with all coils receiving voltage simultaneously. In our model, the field-voltage relationship is linear, so we'll add non-linearity but hand later in the corresponding program."
   ],
   "metadata": {
    "collapsed": false
   }
  },
  {
   "cell_type": "markdown",
   "source": [
    "### Individual coils"
   ],
   "metadata": {
    "collapsed": false
   }
  },
  {
   "cell_type": "code",
   "execution_count": 25,
   "id": "fcf460ae",
   "metadata": {
    "pycharm": {
     "name": "#%% training sets for individual dipoles\n"
    }
   },
   "outputs": [
    {
     "name": "stdout",
     "output_type": "stream",
     "text": [
      "V_ind \n",
      "= [[-10.     0.     0.  ]\n",
      " [ -9.96   0.     0.  ]\n",
      " [ -9.92   0.     0.  ]\n",
      " ...\n",
      " [  0.     0.     9.92]\n",
      " [  0.     0.     9.96]\n",
      " [  0.     0.    10.  ]]\n"
     ]
    }
   ],
   "source": [
    "# Apply voltage to a single coil in a linear fashion\n",
    "\n",
    "N1 = 501 # Number of training samples for each dipole\n",
    "\n",
    "V1 = np.concatenate((np.linspace(-10, 10, N1), np.zeros(N1), np.zeros(N1)))\n",
    "\n",
    "V2 = np.concatenate((np.zeros(N1), np.linspace(-10, 10, N1), np.zeros(N1)))\n",
    "\n",
    "V3 = np.concatenate((np.zeros(N1), np.zeros(N1), np.linspace(-10, 10, N1)))\n",
    "\n",
    "V_ind = np.stack((V1, V2, V3), axis=1) # Stack vertically\n",
    "print(\"V_ind \\n=\", V_ind)"
   ]
  },
  {
   "cell_type": "code",
   "execution_count": 39,
   "outputs": [],
   "source": [
    "# Calculate magnetic field\n",
    "\n",
    "B_ind = []\n",
    "for V_rand in V_ind:\n",
    "    B_ind.append(total_field(r0, V_rand * m, B_uniform, A))\n",
    "\n",
    "individual_calibration_set = pd.DataFrame(np.concatenate((B_ind, V_ind), axis = 1), columns = [\"B_x\", \"B_y\", \"B_z\", \"M_1\", \"M_2\", \"M_3\"]) # Combine fields and voltages into a single dataset"
   ],
   "metadata": {
    "collapsed": false
   }
  },
  {
   "cell_type": "code",
   "execution_count": 38,
   "outputs": [
    {
     "data": {
      "text/plain": "         B_x  B_y        B_z    M_1  M_2  M_3\n0 -53.033009  0.0 -17.677670 -10.00  0.0  0.0\n1 -52.820877  0.0 -17.606959  -9.96  0.0  0.0\n2 -52.608745  0.0 -17.536248  -9.92  0.0  0.0\n3 -52.396612  0.0 -17.465537  -9.88  0.0  0.0\n4 -52.184480  0.0 -17.394827  -9.84  0.0  0.0",
      "text/html": "<div>\n<style scoped>\n    .dataframe tbody tr th:only-of-type {\n        vertical-align: middle;\n    }\n\n    .dataframe tbody tr th {\n        vertical-align: top;\n    }\n\n    .dataframe thead th {\n        text-align: right;\n    }\n</style>\n<table border=\"1\" class=\"dataframe\">\n  <thead>\n    <tr style=\"text-align: right;\">\n      <th></th>\n      <th>B_x</th>\n      <th>B_y</th>\n      <th>B_z</th>\n      <th>M_1</th>\n      <th>M_2</th>\n      <th>M_3</th>\n    </tr>\n  </thead>\n  <tbody>\n    <tr>\n      <th>0</th>\n      <td>-53.033009</td>\n      <td>0.0</td>\n      <td>-17.677670</td>\n      <td>-10.00</td>\n      <td>0.0</td>\n      <td>0.0</td>\n    </tr>\n    <tr>\n      <th>1</th>\n      <td>-52.820877</td>\n      <td>0.0</td>\n      <td>-17.606959</td>\n      <td>-9.96</td>\n      <td>0.0</td>\n      <td>0.0</td>\n    </tr>\n    <tr>\n      <th>2</th>\n      <td>-52.608745</td>\n      <td>0.0</td>\n      <td>-17.536248</td>\n      <td>-9.92</td>\n      <td>0.0</td>\n      <td>0.0</td>\n    </tr>\n    <tr>\n      <th>3</th>\n      <td>-52.396612</td>\n      <td>0.0</td>\n      <td>-17.465537</td>\n      <td>-9.88</td>\n      <td>0.0</td>\n      <td>0.0</td>\n    </tr>\n    <tr>\n      <th>4</th>\n      <td>-52.184480</td>\n      <td>0.0</td>\n      <td>-17.394827</td>\n      <td>-9.84</td>\n      <td>0.0</td>\n      <td>0.0</td>\n    </tr>\n  </tbody>\n</table>\n</div>"
     },
     "execution_count": 38,
     "metadata": {},
     "output_type": "execute_result"
    }
   ],
   "source": [
    "individual_calibration_set.head()"
   ],
   "metadata": {
    "collapsed": false
   }
  },
  {
   "cell_type": "code",
   "execution_count": 41,
   "outputs": [],
   "source": [
    "individual_calibration_set.to_csv('data/individual_calibration_set.csv')"
   ],
   "metadata": {
    "collapsed": false
   }
  },
  {
   "cell_type": "markdown",
   "source": [
    "### Full set"
   ],
   "metadata": {
    "collapsed": false
   }
  },
  {
   "cell_type": "code",
   "execution_count": 27,
   "id": "44182957",
   "metadata": {
    "pycharm": {
     "name": "#%% training sets for random dipoles\n"
    }
   },
   "outputs": [
    {
     "ename": "NameError",
     "evalue": "name 'linear_calibration_set' is not defined",
     "output_type": "error",
     "traceback": [
      "\u001B[0;31m---------------------------------------------------------------------------\u001B[0m",
      "\u001B[0;31mNameError\u001B[0m                                 Traceback (most recent call last)",
      "Input \u001B[0;32mIn [27]\u001B[0m, in \u001B[0;36m<cell line: 4>\u001B[0;34m()\u001B[0m\n\u001B[1;32m      2\u001B[0m N2 \u001B[38;5;241m=\u001B[39m \u001B[38;5;241m1000\u001B[39m \u001B[38;5;66;03m# Total number of values\u001B[39;00m\n\u001B[1;32m      3\u001B[0m V \u001B[38;5;241m=\u001B[39m np\u001B[38;5;241m.\u001B[39mrandom\u001B[38;5;241m.\u001B[39muniform(\u001B[38;5;241m-\u001B[39m\u001B[38;5;241m10\u001B[39m, \u001B[38;5;241m10\u001B[39m, (N2, \u001B[38;5;241m3\u001B[39m))\n\u001B[0;32m----> 4\u001B[0m targets_train \u001B[38;5;241m=\u001B[39m np\u001B[38;5;241m.\u001B[39mconcatenate((\u001B[43mlinear_calibration_set\u001B[49m, V))\n",
      "\u001B[0;31mNameError\u001B[0m: name 'linear_calibration_set' is not defined"
     ]
    }
   ],
   "source": [
    "# Apply random voltages to all three coils\n",
    "N2 = 1000 # Total number of values\n",
    "V_rand = np.random.uniform(-10, 10, (N2, 3))\n",
    "V_full = np.concatenate((V_rand, individual_calibration_set))"
   ]
  },
  {
   "cell_type": "markdown",
   "source": [
    "## Calculate the magnetic field"
   ],
   "metadata": {
    "collapsed": false
   }
  },
  {
   "cell_type": "code",
   "execution_count": null,
   "id": "c42ba86c",
   "metadata": {
    "pycharm": {
     "name": "#%% calculate B field\n"
    }
   },
   "outputs": [],
   "source": [
    "B = []\n",
    "\n",
    "for V_rand in V_full:\n",
    "    B.append(total_field(r0, V_rand * m, B_uniform, A))\n",
    "    \n",
    "B_train = np.array(B)\n",
    "\n",
    "Training_set = pd.DataFrame(np.concatenate((B_train, V_full), axis = 1), columns = [\"B_x\", \"B_y\", \"B_z\", \"M_1\", \"M_2\", \"M_3\"])\n",
    "\n",
    "# np.save(\"data\\B_train.npy\", B_train)\n",
    "# np.save(\"data\\M_train.npy\", targets_train)"
   ]
  },
  {
   "cell_type": "markdown",
   "source": [],
   "metadata": {
    "collapsed": false
   }
  },
  {
   "cell_type": "code",
   "execution_count": null,
   "outputs": [],
   "source": [
    "N_test = 100\n",
    "\n",
    "targets_test = np.random.uniform(-10, 10, (N_test, 3))\n",
    "B = []\n",
    "\n",
    "for V_rand in targets_test:\n",
    "    B.append(total_field(r0, V_rand * m))\n",
    "    \n",
    "B_test = np.array(B)"
   ],
   "metadata": {
    "collapsed": false,
    "pycharm": {
     "name": "#%%testing set \n"
    }
   }
  },
  {
   "cell_type": "code",
   "execution_count": null,
   "outputs": [],
   "source": [
    "# Save data\n",
    "\n",
    "np.save(\"data/B_test.npy\", B_test)\n",
    "np.save(\"data/M_test.npy\", targets_test)"
   ],
   "metadata": {
    "collapsed": false
   }
  }
 ],
 "metadata": {
  "kernelspec": {
   "display_name": "Python 3 (ipykernel)",
   "language": "python",
   "name": "python3"
  },
  "language_info": {
   "codemirror_mode": {
    "name": "ipython",
    "version": 3
   },
   "file_extension": ".py",
   "mimetype": "text/x-python",
   "name": "python",
   "nbconvert_exporter": "python",
   "pygments_lexer": "ipython3",
   "version": "3.9.13"
  }
 },
 "nbformat": 4,
 "nbformat_minor": 5
}
