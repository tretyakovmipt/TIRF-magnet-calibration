{
 "cells": [
  {
   "cell_type": "markdown",
   "source": [
    "## Setup"
   ],
   "metadata": {
    "collapsed": false
   }
  },
  {
   "cell_type": "code",
   "execution_count": 1,
   "outputs": [],
   "source": [
    "import numpy as np"
   ],
   "metadata": {
    "collapsed": false
   }
  },
  {
   "cell_type": "code",
   "execution_count": 5,
   "outputs": [],
   "source": [
    "# Functions for the field calculations\n",
    "\n",
    "def mag(x):\n",
    "    \"\"\"Calculates magnitude of vector x\"\"\"\n",
    "    return np.sqrt(np.dot(x,x))\n",
    "\n",
    "def dipole_field(r, r0, m, a):\n",
    "    \"\"\"\n",
    "    Calculates magnetic field of a single dipole\n",
    "    r - location of the field\n",
    "    r0 - position of the dipole\n",
    "    m - magnitude of the dipole. Negative values correspond to the opposite orientation of  the dipole axis\n",
    "    a - dipole axis\"\"\"\n",
    "    M = m*a   # Magnetic moment vector\n",
    "    R = r-r0\n",
    "    if np.dot(R,R) == 0: #This one is to avoid singularities\n",
    "        return np.array([0, 0, 0])\n",
    "    return mu0*(3*R*(np.dot(M,R))/(mag(R)**5) - M/(mag(R)**3))\n",
    "\n",
    "def total_field(r, m_array: np.array, dipole_axis: np.array) -> np.array:\n",
    "    \"\"\"Calculates the total field at point r\n",
    "    To simplify the data set generation later, the magnitudes of the three dipoles are placed in array m.\n",
    "    B0 is the external field.\n",
    "    dipole_axis is the dipole orientation (same for all three)\"\"\"\n",
    "    B1 = dipole_field(r, R1, m_array[0], dipole_axis)\n",
    "    B2 = dipole_field(r, R2, m_array[1], dipole_axis)\n",
    "    B3 = dipole_field(r, R3, m_array[2], dipole_axis)\n",
    "    return B1+B2+B3"
   ],
   "metadata": {
    "collapsed": false
   }
  },
  {
   "cell_type": "code",
   "execution_count": 6,
   "outputs": [],
   "source": [
    "# Constants and the setup parameters\n",
    "\n",
    "mu0 = 10**-7# magnetic constant\n",
    "m = 1e8 # Scaling factor magnetic dipole magnitude\n",
    "\n",
    "# Magnetic dipole position vectors\n",
    "R1 = np.array([1, 0, 1])\n",
    "R2 = np.array([-np.cos(np.pi/3), np.sin(np.pi/3), 1])\n",
    "R3 = np.array([-np.cos(np.pi/3), -np.sin(np.pi/3), 1])\n",
    "\n",
    "# Magnetic dipole orientation (same for all three)\n",
    "A = np.array([0, 0, 1]) # It is a global variable\n",
    "\n",
    "# The magnetometer location. Magnetic field is calculated here\n",
    "r0 = np.array([0., 0., 0.])"
   ],
   "metadata": {
    "collapsed": false
   }
  },
  {
   "cell_type": "markdown",
   "source": [
    "## Test"
   ],
   "metadata": {
    "collapsed": false
   }
  },
  {
   "cell_type": "markdown",
   "source": [
    "### Linear"
   ],
   "metadata": {
    "collapsed": false
   }
  },
  {
   "cell_type": "code",
   "execution_count": 3,
   "outputs": [
    {
     "name": "stdout",
     "output_type": "stream",
     "text": [
      "[[ 1.25707872e-01 -6.28539361e-02 -6.28539361e-02]\n",
      " [ 2.45218238e-18  1.08866211e-01 -1.08866211e-01]\n",
      " [ 1.88561808e-01  1.88561808e-01  1.88561808e-01]]\n"
     ]
    }
   ],
   "source": [
    "M_ = np.loadtxt(\"data/lin_cal_mat.csv\")\n",
    "print(M_)"
   ],
   "metadata": {
    "collapsed": false
   }
  },
  {
   "cell_type": "code",
   "execution_count": 4,
   "metadata": {
    "collapsed": true
   },
   "outputs": [
    {
     "ename": "NameError",
     "evalue": "name 'total_field' is not defined",
     "output_type": "error",
     "traceback": [
      "\u001B[0;31m---------------------------------------------------------------------------\u001B[0m",
      "\u001B[0;31mNameError\u001B[0m                                 Traceback (most recent call last)",
      "Input \u001B[0;32mIn [4]\u001B[0m, in \u001B[0;36m<cell line: 9>\u001B[0;34m()\u001B[0m\n\u001B[1;32m      5\u001B[0m     B\u001B[38;5;241m.\u001B[39mappend(\u001B[38;5;241m1\u001B[39m \u001B[38;5;241m*\u001B[39m np\u001B[38;5;241m.\u001B[39marray([np\u001B[38;5;241m.\u001B[39msin(th), \u001B[38;5;241m0\u001B[39m, np\u001B[38;5;241m.\u001B[39mcos(th)]))\n\u001B[1;32m      7\u001B[0m B \u001B[38;5;241m=\u001B[39m np\u001B[38;5;241m.\u001B[39marray(B)\n\u001B[0;32m----> 9\u001B[0m \u001B[43mtotal_field\u001B[49m(B)\n",
      "\u001B[0;31mNameError\u001B[0m: name 'total_field' is not defined"
     ]
    }
   ],
   "source": [
    "theta = np.linspace(0, np.pi / 2, 51)\n",
    "B = []\n",
    "\n",
    "for th in theta:\n",
    "    B.append(1 * np.array([np.sin(th), 0, np.cos(th)]))\n",
    "\n",
    "B = np.array(B)\n",
    "\n",
    "total_field(B)"
   ]
  },
  {
   "cell_type": "code",
   "execution_count": null,
   "outputs": [],
   "source": [],
   "metadata": {
    "collapsed": false
   }
  }
 ],
 "metadata": {
  "kernelspec": {
   "display_name": "Python 3",
   "language": "python",
   "name": "python3"
  },
  "language_info": {
   "codemirror_mode": {
    "name": "ipython",
    "version": 2
   },
   "file_extension": ".py",
   "mimetype": "text/x-python",
   "name": "python",
   "nbconvert_exporter": "python",
   "pygments_lexer": "ipython2",
   "version": "2.7.6"
  }
 },
 "nbformat": 4,
 "nbformat_minor": 0
}
