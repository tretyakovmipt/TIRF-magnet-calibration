{
 "cells": [
  {
   "cell_type": "code",
   "execution_count": 1,
   "outputs": [],
   "source": [
    "import numpy as np"
   ],
   "metadata": {
    "collapsed": false
   }
  },
  {
   "cell_type": "markdown",
   "source": [
    "Linear calibration"
   ],
   "metadata": {
    "collapsed": false
   }
  },
  {
   "cell_type": "code",
   "execution_count": 3,
   "outputs": [
    {
     "name": "stdout",
     "output_type": "stream",
     "text": [
      "[[ 1.25707872e-01 -6.28539361e-02 -6.28539361e-02]\n",
      " [ 2.45218238e-18  1.08866211e-01 -1.08866211e-01]\n",
      " [ 1.88561808e-01  1.88561808e-01  1.88561808e-01]]\n"
     ]
    }
   ],
   "source": [
    "M_ = np.loadtxt(\"data/lin_cal_mat.csv\")\n",
    "print(M_)"
   ],
   "metadata": {
    "collapsed": false
   }
  },
  {
   "cell_type": "code",
   "execution_count": null,
   "metadata": {
    "collapsed": true
   },
   "outputs": [],
   "source": [
    "theta = np.linspace(0, np.pi / 2, 51)\n",
    "B = []\n",
    "\n",
    "for th in theta:\n",
    "    B.append(1 * np.array([np.sin(th), 0, np.cos(th)]))\n",
    "\n",
    "B = np.array(B)"
   ]
  }
 ],
 "metadata": {
  "kernelspec": {
   "display_name": "Python 3",
   "language": "python",
   "name": "python3"
  },
  "language_info": {
   "codemirror_mode": {
    "name": "ipython",
    "version": 2
   },
   "file_extension": ".py",
   "mimetype": "text/x-python",
   "name": "python",
   "nbconvert_exporter": "python",
   "pygments_lexer": "ipython2",
   "version": "2.7.6"
  }
 },
 "nbformat": 4,
 "nbformat_minor": 0
}
